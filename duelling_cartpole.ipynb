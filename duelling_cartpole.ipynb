{
  "nbformat": 4,
  "nbformat_minor": 0,
  "metadata": {
    "colab": {
      "name": "duelling cartpole",
      "provenance": [],
      "authorship_tag": "ABX9TyNVgofclmvSbbKkSyC35XJa",
      "include_colab_link": true
    },
    "kernelspec": {
      "name": "python3",
      "display_name": "Python 3"
    },
    "language_info": {
      "name": "python"
    }
  },
  "cells": [
    {
      "cell_type": "markdown",
      "metadata": {
        "id": "view-in-github",
        "colab_type": "text"
      },
      "source": [
        "<a href=\"https://colab.research.google.com/github/Varunsaistark/reinforcment_learning/blob/main/duelling_cartpole.ipynb\" target=\"_parent\"><img src=\"https://colab.research.google.com/assets/colab-badge.svg\" alt=\"Open In Colab\"/></a>"
      ]
    },
    {
      "cell_type": "code",
      "metadata": {
        "id": "WzXbKOz8v4wZ"
      },
      "source": [
        "import torch \n",
        "import torch.nn as nn\n",
        " \n",
        "import torch.nn.functional as F\n",
        "import torchvision\n",
        "import torchvision.transforms as transforms\n",
        "import matplotlib.pyplot as plt\n",
        "import numpy as np\n",
        "import gym\n",
        "from collections import namedtuple \n",
        "import random\n",
        "\n",
        "import matplotlib.pyplot as plt\n"
      ],
      "execution_count": 2,
      "outputs": []
    },
    {
      "cell_type": "code",
      "metadata": {
        "id": "UOklMULAwKDj"
      },
      "source": [
        "device = torch.device('cuda' if torch.cuda.is_available() else 'cpu')"
      ],
      "execution_count": 3,
      "outputs": []
    },
    {
      "cell_type": "code",
      "metadata": {
        "id": "am1vd49EwLOt"
      },
      "source": [
        "num_epochs=4\n",
        "alpha=1e-4\n",
        "batch_size=512"
      ],
      "execution_count": 4,
      "outputs": []
    },
    {
      "cell_type": "code",
      "metadata": {
        "id": "twxR_Dw-wMbB"
      },
      "source": [
        "Experience = namedtuple('Experience',('state','action','next_state','reward','done'))"
      ],
      "execution_count": 5,
      "outputs": []
    },
    {
      "cell_type": "code",
      "metadata": {
        "id": "QyGTKNcfwODu"
      },
      "source": [
        " \n",
        "class replaymemory():\n",
        "  def __init__(self,capacity):\n",
        "    self.capacity=capacity\n",
        "    self.memory=[]\n",
        "    self.push_count=0\n",
        "  \n",
        "  def push(self,experience):\n",
        "    if(self.push_count>self.capacity):\n",
        "      self.memory[self.push_count%self.capacity]=experience\n",
        "    else:\n",
        "      self.memory.append(experience)\n",
        "    self.push_count+=1\n",
        "  \n",
        "  \n",
        "  def sample(self,batch_size):\n",
        "    e=random.sample(self.memory,batch_size)\n",
        "    #print(type(e1.state))\n",
        "    states=torch.tensor([e1.state for e1 in e]).to(device)\n",
        "    actions=torch.tensor([e1.action for e1 in e]).to(device)\n",
        "    next=torch.tensor([e1.next_state for e1 in e]).to(device)\n",
        "    rewards = torch.tensor(([e1.reward for e1 in e])).to(device)\n",
        "    dones = torch.tensor([e1.done for e1 in e])\n",
        "    \n",
        "    #states=states.view(64,1,80,160)\n",
        "    return states.float(),actions,next,rewards,dones\n",
        "  \n",
        "  def can_provide(self,batch_size):\n",
        "    return len(self.memory)>=batch_size"
      ],
      "execution_count": 6,
      "outputs": []
    },
    {
      "cell_type": "code",
      "metadata": {
        "id": "LXRuLR3NwPDy"
      },
      "source": [
        "#from google.colab import drive\n",
        " \n",
        "#drive.mount('/content/drive')"
      ],
      "execution_count": 7,
      "outputs": []
    },
    {
      "cell_type": "code",
      "metadata": {
        "id": "tDOFRB6awRVT"
      },
      "source": [
        "class eps_strat():\n",
        "  def __init__(self,num_actions,start,decay,end,device):\n",
        "    self.cur_step=0\n",
        "    self.num=num_actions\n",
        "    self.device=device\n",
        "    self.start=start\n",
        "    self.decay=decay\n",
        "    self.end=end\n",
        "  def get_action(self,policy,state,step):\n",
        "    self.cur_step=step\n",
        "    ep=self.end+(self.start-self.end) * np.exp(-1*self.cur_step*self.decay)\n",
        "    #self.cur_step=self.cur_step+1\n",
        "    #print(ep,self.cur_step)\n",
        "    if ep>random.random():\n",
        "      #print(\"NO\")\n",
        "      action=random.randrange(self.num)\n",
        "      return action\n",
        "    else:\n",
        "      policy.eval()\n",
        "      with torch.no_grad():\n",
        "        #print(\"yes\")\n",
        "        return torch.argmax(policy(state)).item()\n",
        "  def get_value(self,step):\n",
        "    self.cur_step=step\n",
        "    ep=self.end+(self.start-self.end) * np.exp(-1*self.cur_step*self.decay)\n",
        "    return ep\n"
      ],
      "execution_count": 8,
      "outputs": []
    },
    {
      "cell_type": "code",
      "metadata": {
        "id": "Vk61sTaBwZo3"
      },
      "source": [
        "class duelling(nn.Module):\n",
        "  def __init__(self,num_actions):\n",
        "    super(duelling,self).__init__()\n",
        "    self.a = num_actions\n",
        "    self.fc1_value = nn.Linear(4,512)\n",
        "    self.fc2_value = nn.Linear(512,64)\n",
        "    self.fc3_value = nn.Linear(64,1)\n",
        "    self.fc1_adv = nn.Linear(4,512)\n",
        "    self.fc2_adv = nn.Linear(512,64)\n",
        "    self.fc3_adv = nn.Linear(64,self.a)\n",
        "  def forward(self,x):\n",
        "    state_value = F.relu(self.fc1_value(x))\n",
        "    state_value = F.relu(self.fc2_value(state_value))\n",
        "    state_value = self.fc3_value(state_value)\n",
        "    advantage = F.relu(self.fc1_adv(x))\n",
        "    advantage = F.relu(self.fc2_adv(advantage))\n",
        "    advantage = self.fc3_adv(advantage)\n",
        "\n",
        "    return state_value+advantage-torch.mean(advantage)\n",
        "\n"
      ],
      "execution_count": 9,
      "outputs": []
    },
    {
      "cell_type": "code",
      "metadata": {
        "id": "W55XdHKAwdLL"
      },
      "source": [
        "def soft_update(local,target,t):\n",
        "  for target_param,local_param in zip(target.parameters(),local.parameters()):\n",
        "    target_param.data.copy_(t*local_param.data+(1-t)*target_param.data)"
      ],
      "execution_count": 10,
      "outputs": []
    },
    {
      "cell_type": "code",
      "metadata": {
        "id": "fBW37ZmQweY8"
      },
      "source": [
        "env = gym.make('CartPole-v0')\n",
        "a = env.action_space.n"
      ],
      "execution_count": 11,
      "outputs": []
    },
    {
      "cell_type": "code",
      "metadata": {
        "id": "c8LKF_ywwida"
      },
      "source": [
        "target_net = duelling(a).to(device)\n",
        "policy=duelling(a).to(device)\n",
        "soft_update(policy,target_net,1)\n",
        "\n",
        "\n",
        "\n",
        "#optimizer=torch.optim.SGD(model.parameters(),lr=alpha)"
      ],
      "execution_count": 12,
      "outputs": []
    },
    {
      "cell_type": "code",
      "metadata": {
        "id": "K1NshxMVwmlu"
      },
      "source": [
        "mem=replaymemory(10000)"
      ],
      "execution_count": 13,
      "outputs": []
    },
    {
      "cell_type": "code",
      "metadata": {
        "colab": {
          "base_uri": "https://localhost:8080/"
        },
        "id": "cyaTucpcwozw",
        "outputId": "9a26a379-343b-4f32-ae03-a202d40cee01"
      },
      "source": [
        "env = env.unwrapped\n",
        "ob=env.reset()\n",
        "\n",
        "done_1=False\n",
        "print(ob.shape)\n",
        "\n",
        "gamma=torch.tensor(0.99)\n",
        "\n",
        "start=1\n",
        "end=0.00001\n",
        "decay=0.01\n",
        "\n",
        "\n",
        "#tau for soft update\n",
        " \n",
        "tau=0.89\n",
        "\n",
        "t_decay=eps_strat(2,0.9,0.01,0.001,device)\n",
        "print(tau)\n",
        "print(env.action_space.n)"
      ],
      "execution_count": 14,
      "outputs": [
        {
          "output_type": "stream",
          "text": [
            "(4,)\n",
            "0.89\n",
            "2\n"
          ],
          "name": "stdout"
        }
      ]
    },
    {
      "cell_type": "code",
      "metadata": {
        "colab": {
          "base_uri": "https://localhost:8080/",
          "height": 1000
        },
        "id": "J3KC5MJjwuR1",
        "outputId": "e1461f96-3995-4023-ca85-82b68e25e30f"
      },
      "source": [
        "FILE='/content/drive/MyDrive/target_duellingcartpole.pth'\n",
        "File='/content/drive/MyDrive/model_duellingcartpole.pth'\n",
        "#torch.save(policy.state_dict(),File)\n",
        "step=0\n",
        "step_1=0\n",
        "eps=0\n",
        "lo=[]\n",
        "re=[]\n",
        "num_episodes=10000\n",
        "for eps in range(num_episodes):\n",
        "  \n",
        "  reward_sum=0\n",
        "  state=env.reset()\n",
        "  \n",
        "  done_1=False\n",
        "  \n",
        "  while not done_1:\n",
        "    step=step+1\n",
        "    ep=eps_strat(2,start,decay,end,device)\n",
        "    st = torch.tensor(state)\n",
        "    action= ep.get_action(policy,st.float().to(device),step)\n",
        "    #print(action)\n",
        "    \n",
        "    next_state,reward,done_1,info=env.step(action)\n",
        "\n",
        " \n",
        "\n",
        "    \n",
        " \n",
        "    e1=Experience(state,action,next_state,reward,done_1)\n",
        "\n",
        "    mem.push(e1)\n",
        "    reward_sum+=reward\n",
        "    \n",
        "    state=next_state\n",
        "    #print(reward)\n",
        "  \n",
        "  re.append(reward_sum)\n",
        "  #if reward_sum>280:\n",
        "  print(eps,reward_sum)\n",
        "  \n",
        "  if mem.can_provide(64):\n",
        "    epochs=5\n",
        "    for i in range(epochs):\n",
        "      states_1,actions,next_states,rewards,done=mem.sample(64)\n",
        "      ex = policy.forward(next_states.float()).detach().cpu().numpy().tolist()\n",
        "     \n",
        "      target_q=target_net.forward(next_states.float()).detach().cpu().numpy()\n",
        "      #print(target_q)\n",
        "      j=[t.index(max(t)) for t in ex]\n",
        "     \n",
        "      target_q=torch.tensor([target_q[i][j[i]] for i in range(len(j))]).to(device).detach()\n",
        "      #cv2_imshow(states_1[0][0].cpu(that loss becoming 0 is still persisi).numpy())\n",
        "      done=done.int().to(device)\n",
        "  \n",
        "      q=(rewards+gamma*(target_q*(1-done))).detach()\n",
        "      q=q.unsqueeze(1)\n",
        "    #print(gamma*(target_q*(1-done)))\n",
        "      l=torch.tensor([actions[i] for i in range(64)]).to(device)\n",
        "      l=l.unsqueeze(1)\n",
        "      exp_q=policy.forward(states_1.float()).gather(-1,l)\n",
        "    \n",
        "      loss=nn.MSELoss()\n",
        "      tr=loss(exp_q,q)\n",
        "      #print(tr)\n",
        "    #print(\"loss is {}\".format(tr))\n",
        "      lo.append(tr)\n",
        "    #print(tr)\n",
        "      optimizer= torch.optim.Adam(policy.parameters(),lr=alpha)\n",
        "      optimizer.zero_grad()\n",
        "      tr.backward()\n",
        "    # optimizer\n",
        "    \n",
        "      optimizer.step()\n",
        "    \n",
        "   \n",
        "  if eps%100 ==0:\n",
        "    #step_1=step_1+1\n",
        "    #tau=t_decay.get_value(step_1)\n",
        "    soft_update(policy,target_net,0.78) \n",
        "    episodes=range(len(lo))\n",
        "    epi=range(len(re))\n",
        "    plt.plot(episodes,lo,'g',label='loss')\n",
        "    plt.xlabel('episodes')\n",
        "    plt.ylabel('Loss')\n",
        "    plt.legend()\n",
        "    plt.show() \n",
        "    plt.plot(epi,re,'g',label='rewards')\n",
        "    plt.xlabel('episodes')\n",
        "    plt.ylabel('rewards')\n",
        "    plt.legend()\n",
        "    plt.show() \n",
        "  #if eps%50==0:\n",
        "   # torch.save(target_net.state_dict(),FILE)\n",
        "   # torch.save(policy.state_dict(),File)\n",
        "   # print(\"Weights saved\")"
      ],
      "execution_count": 16,
      "outputs": [
        {
          "output_type": "stream",
          "text": [
            "0 16.0\n"
          ],
          "name": "stdout"
        },
        {
          "output_type": "display_data",
          "data": {
            "image/png": "[encoded data removed]",
            "text/plain": [
              "<Figure size 432x288 with 1 Axes>"
            ]
          },
          "metadata": {
            "tags": [],
            "needs_background": "light"
          }
        },
        {
          "output_type": "display_data",
          "data": {
            "image/png": "[encoded data removed]",
            "text/plain": [
              "<Figure size 432x288 with 1 Axes>"
            ]
          },
          "metadata": {
            "tags": [],
            "needs_background": "light"
          }
        },
        {
          "output_type": "stream",
          "text": [
            "1 20.0\n",
            "2 10.0\n",
            "3 48.0\n",
            "4 73.0\n",
            "5 73.0\n",
            "6 69.0\n",
            "7 59.0\n",
            "8 88.0\n",
            "9 70.0\n",
            "10 108.0\n",
            "11 76.0\n",
            "12 81.0\n",
            "13 68.0\n",
            "14 42.0\n",
            "15 313.0\n",
            "16 124.0\n",
            "17 33.0\n",
            "18 41.0\n",
            "19 68.0\n",
            "20 10.0\n",
            "21 63.0\n",
            "22 45.0\n",
            "23 44.0\n",
            "24 39.0\n",
            "25 39.0\n",
            "26 115.0\n",
            "27 183.0\n",
            "28 46.0\n",
            "29 41.0\n",
            "30 43.0\n",
            "31 41.0\n",
            "32 166.0\n",
            "33 109.0\n",
            "34 89.0\n",
            "35 35.0\n",
            "36 95.0\n",
            "37 36.0\n",
            "38 116.0\n",
            "39 130.0\n",
            "40 51.0\n",
            "41 41.0\n",
            "42 17.0\n",
            "43 22.0\n",
            "44 34.0\n",
            "45 37.0\n",
            "46 19.0\n",
            "47 20.0\n",
            "48 20.0\n",
            "49 28.0\n",
            "50 14.0\n",
            "51 22.0\n",
            "52 81.0\n",
            "53 163.0\n",
            "54 14.0\n",
            "55 156.0\n",
            "56 18.0\n",
            "57 42.0\n",
            "58 18.0\n",
            "59 19.0\n",
            "60 77.0\n",
            "61 114.0\n",
            "62 242.0\n",
            "63 97.0\n",
            "64 101477.0\n",
            "65 10.0\n",
            "66 13.0\n",
            "67 91.0\n",
            "68 10.0\n",
            "69 100.0\n",
            "70 80.0\n",
            "71 25.0\n",
            "72 796.0\n",
            "73 24.0\n",
            "74 124.0\n",
            "75 194.0\n",
            "76 149.0\n",
            "77 1263.0\n",
            "78 79.0\n",
            "79 88.0\n",
            "80 28.0\n",
            "81 12.0\n",
            "82 455.0\n",
            "83 24.0\n",
            "84 67.0\n",
            "85 157.0\n",
            "86 38.0\n",
            "87 20.0\n",
            "88 72.0\n",
            "89 13.0\n",
            "90 194.0\n",
            "91 358.0\n",
            "92 29.0\n",
            "93 616.0\n",
            "94 32.0\n",
            "95 159.0\n",
            "96 211.0\n",
            "97 25.0\n",
            "98 364.0\n",
            "99 28.0\n",
            "100 31.0\n"
          ],
          "name": "stdout"
        },
        {
          "output_type": "display_data",
          "data": {
            "image/png": "[encoded data removed]",
            "text/plain": [
              "<Figure size 432x288 with 1 Axes>"
            ]
          },
          "metadata": {
            "tags": [],
            "needs_background": "light"
          }
        },
        {
          "output_type": "display_data",
          "data": {
            "image/png": "[encoded data removed]",
            "text/plain": [
              "<Figure size 432x288 with 1 Axes>"
            ]
          },
          "metadata": {
            "tags": [],
            "needs_background": "light"
          }
        },
        {
          "output_type": "stream",
          "text": [
            "101 114.0\n",
            "102 153.0\n",
            "103 55.0\n",
            "104 89.0\n",
            "105 104.0\n",
            "106 81.0\n",
            "107 39.0\n",
            "108 90.0\n",
            "109 110.0\n",
            "110 64.0\n",
            "111 100.0\n",
            "112 152.0\n",
            "113 159.0\n",
            "114 157.0\n",
            "115 288.0\n",
            "116 590.0\n",
            "117 27.0\n",
            "118 33.0\n",
            "119 293.0\n",
            "120 80.0\n",
            "121 113.0\n",
            "122 126.0\n",
            "123 34.0\n",
            "124 23.0\n",
            "125 45.0\n",
            "126 125.0\n",
            "127 129.0\n",
            "128 272.0\n",
            "129 282.0\n",
            "130 10.0\n",
            "131 37.0\n",
            "132 123.0\n",
            "133 43.0\n",
            "134 23.0\n",
            "135 19.0\n",
            "136 96.0\n",
            "137 87.0\n",
            "138 185.0\n",
            "139 144.0\n",
            "140 65.0\n",
            "141 27.0\n",
            "142 54.0\n",
            "143 106.0\n",
            "144 53.0\n",
            "145 48.0\n",
            "146 43.0\n",
            "147 47.0\n",
            "148 13.0\n",
            "149 62.0\n",
            "150 119.0\n",
            "151 51.0\n",
            "152 70.0\n",
            "153 18.0\n",
            "154 77.0\n",
            "155 120.0\n",
            "156 47.0\n",
            "157 87.0\n",
            "158 12.0\n",
            "159 45.0\n",
            "160 15.0\n",
            "161 10.0\n",
            "162 33.0\n",
            "163 29.0\n",
            "164 51.0\n",
            "165 121.0\n",
            "166 30.0\n",
            "167 137.0\n",
            "168 168.0\n",
            "169 93.0\n",
            "170 108.0\n",
            "171 10.0\n",
            "172 36.0\n",
            "173 35.0\n",
            "174 141.0\n",
            "175 43.0\n",
            "176 96.0\n",
            "177 84.0\n",
            "178 130.0\n",
            "179 31.0\n",
            "180 155.0\n",
            "181 93.0\n"
          ],
          "name": "stdout"
        },
        {
          "output_type": "error",
          "ename": "KeyboardInterrupt",
          "evalue": "ignored",
          "traceback": [
            "\u001b[0;31m---------------------------------------------------------------------------\u001b[0m",
            "\u001b[0;31mKeyboardInterrupt\u001b[0m                         Traceback (most recent call last)",
            "\u001b[0;32m<ipython-input-16-401f9f14c629>\u001b[0m in \u001b[0;36m<module>\u001b[0;34m()\u001b[0m\n\u001b[1;32m     19\u001b[0m     \u001b[0mep\u001b[0m\u001b[0;34m=\u001b[0m\u001b[0meps_strat\u001b[0m\u001b[0;34m(\u001b[0m\u001b[0;36m2\u001b[0m\u001b[0;34m,\u001b[0m\u001b[0mstart\u001b[0m\u001b[0;34m,\u001b[0m\u001b[0mdecay\u001b[0m\u001b[0;34m,\u001b[0m\u001b[0mend\u001b[0m\u001b[0;34m,\u001b[0m\u001b[0mdevice\u001b[0m\u001b[0;34m)\u001b[0m\u001b[0;34m\u001b[0m\u001b[0;34m\u001b[0m\u001b[0m\n\u001b[1;32m     20\u001b[0m     \u001b[0mst\u001b[0m \u001b[0;34m=\u001b[0m \u001b[0mtorch\u001b[0m\u001b[0;34m.\u001b[0m\u001b[0mtensor\u001b[0m\u001b[0;34m(\u001b[0m\u001b[0mstate\u001b[0m\u001b[0;34m)\u001b[0m\u001b[0;34m\u001b[0m\u001b[0;34m\u001b[0m\u001b[0m\n\u001b[0;32m---> 21\u001b[0;31m     \u001b[0maction\u001b[0m\u001b[0;34m=\u001b[0m \u001b[0mep\u001b[0m\u001b[0;34m.\u001b[0m\u001b[0mget_action\u001b[0m\u001b[0;34m(\u001b[0m\u001b[0mpolicy\u001b[0m\u001b[0;34m,\u001b[0m\u001b[0mst\u001b[0m\u001b[0;34m.\u001b[0m\u001b[0mfloat\u001b[0m\u001b[0;34m(\u001b[0m\u001b[0;34m)\u001b[0m\u001b[0;34m.\u001b[0m\u001b[0mto\u001b[0m\u001b[0;34m(\u001b[0m\u001b[0mdevice\u001b[0m\u001b[0;34m)\u001b[0m\u001b[0;34m,\u001b[0m\u001b[0mstep\u001b[0m\u001b[0;34m)\u001b[0m\u001b[0;34m\u001b[0m\u001b[0;34m\u001b[0m\u001b[0m\n\u001b[0m\u001b[1;32m     22\u001b[0m     \u001b[0;31m#print(action)\u001b[0m\u001b[0;34m\u001b[0m\u001b[0;34m\u001b[0m\u001b[0;34m\u001b[0m\u001b[0m\n\u001b[1;32m     23\u001b[0m \u001b[0;34m\u001b[0m\u001b[0m\n",
            "\u001b[0;32m<ipython-input-8-f6c4da2e07e3>\u001b[0m in \u001b[0;36mget_action\u001b[0;34m(self, policy, state, step)\u001b[0m\n\u001b[1;32m     20\u001b[0m       \u001b[0;32mwith\u001b[0m \u001b[0mtorch\u001b[0m\u001b[0;34m.\u001b[0m\u001b[0mno_grad\u001b[0m\u001b[0;34m(\u001b[0m\u001b[0;34m)\u001b[0m\u001b[0;34m:\u001b[0m\u001b[0;34m\u001b[0m\u001b[0;34m\u001b[0m\u001b[0m\n\u001b[1;32m     21\u001b[0m         \u001b[0;31m#print(\"yes\")\u001b[0m\u001b[0;34m\u001b[0m\u001b[0;34m\u001b[0m\u001b[0;34m\u001b[0m\u001b[0m\n\u001b[0;32m---> 22\u001b[0;31m         \u001b[0;32mreturn\u001b[0m \u001b[0mtorch\u001b[0m\u001b[0;34m.\u001b[0m\u001b[0margmax\u001b[0m\u001b[0;34m(\u001b[0m\u001b[0mpolicy\u001b[0m\u001b[0;34m(\u001b[0m\u001b[0mstate\u001b[0m\u001b[0;34m)\u001b[0m\u001b[0;34m)\u001b[0m\u001b[0;34m.\u001b[0m\u001b[0mitem\u001b[0m\u001b[0;34m(\u001b[0m\u001b[0;34m)\u001b[0m\u001b[0;34m\u001b[0m\u001b[0;34m\u001b[0m\u001b[0m\n\u001b[0m\u001b[1;32m     23\u001b[0m   \u001b[0;32mdef\u001b[0m \u001b[0mget_value\u001b[0m\u001b[0;34m(\u001b[0m\u001b[0mself\u001b[0m\u001b[0;34m,\u001b[0m\u001b[0mstep\u001b[0m\u001b[0;34m)\u001b[0m\u001b[0;34m:\u001b[0m\u001b[0;34m\u001b[0m\u001b[0;34m\u001b[0m\u001b[0m\n\u001b[1;32m     24\u001b[0m     \u001b[0mself\u001b[0m\u001b[0;34m.\u001b[0m\u001b[0mcur_step\u001b[0m\u001b[0;34m=\u001b[0m\u001b[0mstep\u001b[0m\u001b[0;34m\u001b[0m\u001b[0;34m\u001b[0m\u001b[0m\n",
            "\u001b[0;32m/usr/local/lib/python3.7/dist-packages/torch/nn/modules/module.py\u001b[0m in \u001b[0;36m_call_impl\u001b[0;34m(self, *input, **kwargs)\u001b[0m\n\u001b[1;32m    887\u001b[0m             \u001b[0mresult\u001b[0m \u001b[0;34m=\u001b[0m \u001b[0mself\u001b[0m\u001b[0;34m.\u001b[0m\u001b[0m_slow_forward\u001b[0m\u001b[0;34m(\u001b[0m\u001b[0;34m*\u001b[0m\u001b[0minput\u001b[0m\u001b[0;34m,\u001b[0m \u001b[0;34m**\u001b[0m\u001b[0mkwargs\u001b[0m\u001b[0;34m)\u001b[0m\u001b[0;34m\u001b[0m\u001b[0;34m\u001b[0m\u001b[0m\n\u001b[1;32m    888\u001b[0m         \u001b[0;32melse\u001b[0m\u001b[0;34m:\u001b[0m\u001b[0;34m\u001b[0m\u001b[0;34m\u001b[0m\u001b[0m\n\u001b[0;32m--> 889\u001b[0;31m             \u001b[0mresult\u001b[0m \u001b[0;34m=\u001b[0m \u001b[0mself\u001b[0m\u001b[0;34m.\u001b[0m\u001b[0mforward\u001b[0m\u001b[0;34m(\u001b[0m\u001b[0;34m*\u001b[0m\u001b[0minput\u001b[0m\u001b[0;34m,\u001b[0m \u001b[0;34m**\u001b[0m\u001b[0mkwargs\u001b[0m\u001b[0;34m)\u001b[0m\u001b[0;34m\u001b[0m\u001b[0;34m\u001b[0m\u001b[0m\n\u001b[0m\u001b[1;32m    890\u001b[0m         for hook in itertools.chain(\n\u001b[1;32m    891\u001b[0m                 \u001b[0m_global_forward_hooks\u001b[0m\u001b[0;34m.\u001b[0m\u001b[0mvalues\u001b[0m\u001b[0;34m(\u001b[0m\u001b[0;34m)\u001b[0m\u001b[0;34m,\u001b[0m\u001b[0;34m\u001b[0m\u001b[0;34m\u001b[0m\u001b[0m\n",
            "\u001b[0;32m<ipython-input-9-411e175bd86e>\u001b[0m in \u001b[0;36mforward\u001b[0;34m(self, x)\u001b[0m\n\u001b[1;32m     10\u001b[0m     \u001b[0mself\u001b[0m\u001b[0;34m.\u001b[0m\u001b[0mfc3_adv\u001b[0m \u001b[0;34m=\u001b[0m \u001b[0mnn\u001b[0m\u001b[0;34m.\u001b[0m\u001b[0mLinear\u001b[0m\u001b[0;34m(\u001b[0m\u001b[0;36m64\u001b[0m\u001b[0;34m,\u001b[0m\u001b[0mself\u001b[0m\u001b[0;34m.\u001b[0m\u001b[0ma\u001b[0m\u001b[0;34m)\u001b[0m\u001b[0;34m\u001b[0m\u001b[0;34m\u001b[0m\u001b[0m\n\u001b[1;32m     11\u001b[0m   \u001b[0;32mdef\u001b[0m \u001b[0mforward\u001b[0m\u001b[0;34m(\u001b[0m\u001b[0mself\u001b[0m\u001b[0;34m,\u001b[0m\u001b[0mx\u001b[0m\u001b[0;34m)\u001b[0m\u001b[0;34m:\u001b[0m\u001b[0;34m\u001b[0m\u001b[0;34m\u001b[0m\u001b[0m\n\u001b[0;32m---> 12\u001b[0;31m     \u001b[0mstate_value\u001b[0m \u001b[0;34m=\u001b[0m \u001b[0mF\u001b[0m\u001b[0;34m.\u001b[0m\u001b[0mrelu\u001b[0m\u001b[0;34m(\u001b[0m\u001b[0mself\u001b[0m\u001b[0;34m.\u001b[0m\u001b[0mfc1_value\u001b[0m\u001b[0;34m(\u001b[0m\u001b[0mx\u001b[0m\u001b[0;34m)\u001b[0m\u001b[0;34m)\u001b[0m\u001b[0;34m\u001b[0m\u001b[0;34m\u001b[0m\u001b[0m\n\u001b[0m\u001b[1;32m     13\u001b[0m     \u001b[0mstate_value\u001b[0m \u001b[0;34m=\u001b[0m \u001b[0mF\u001b[0m\u001b[0;34m.\u001b[0m\u001b[0mrelu\u001b[0m\u001b[0;34m(\u001b[0m\u001b[0mself\u001b[0m\u001b[0;34m.\u001b[0m\u001b[0mfc2_value\u001b[0m\u001b[0;34m(\u001b[0m\u001b[0mstate_value\u001b[0m\u001b[0;34m)\u001b[0m\u001b[0;34m)\u001b[0m\u001b[0;34m\u001b[0m\u001b[0;34m\u001b[0m\u001b[0m\n\u001b[1;32m     14\u001b[0m     \u001b[0mstate_value\u001b[0m \u001b[0;34m=\u001b[0m \u001b[0mself\u001b[0m\u001b[0;34m.\u001b[0m\u001b[0mfc3_value\u001b[0m\u001b[0;34m(\u001b[0m\u001b[0mstate_value\u001b[0m\u001b[0;34m)\u001b[0m\u001b[0;34m\u001b[0m\u001b[0;34m\u001b[0m\u001b[0m\n",
            "\u001b[0;32m/usr/local/lib/python3.7/dist-packages/torch/nn/modules/module.py\u001b[0m in \u001b[0;36m_call_impl\u001b[0;34m(self, *input, **kwargs)\u001b[0m\n\u001b[1;32m    887\u001b[0m             \u001b[0mresult\u001b[0m \u001b[0;34m=\u001b[0m \u001b[0mself\u001b[0m\u001b[0;34m.\u001b[0m\u001b[0m_slow_forward\u001b[0m\u001b[0;34m(\u001b[0m\u001b[0;34m*\u001b[0m\u001b[0minput\u001b[0m\u001b[0;34m,\u001b[0m \u001b[0;34m**\u001b[0m\u001b[0mkwargs\u001b[0m\u001b[0;34m)\u001b[0m\u001b[0;34m\u001b[0m\u001b[0;34m\u001b[0m\u001b[0m\n\u001b[1;32m    888\u001b[0m         \u001b[0;32melse\u001b[0m\u001b[0;34m:\u001b[0m\u001b[0;34m\u001b[0m\u001b[0;34m\u001b[0m\u001b[0m\n\u001b[0;32m--> 889\u001b[0;31m             \u001b[0mresult\u001b[0m \u001b[0;34m=\u001b[0m \u001b[0mself\u001b[0m\u001b[0;34m.\u001b[0m\u001b[0mforward\u001b[0m\u001b[0;34m(\u001b[0m\u001b[0;34m*\u001b[0m\u001b[0minput\u001b[0m\u001b[0;34m,\u001b[0m \u001b[0;34m**\u001b[0m\u001b[0mkwargs\u001b[0m\u001b[0;34m)\u001b[0m\u001b[0;34m\u001b[0m\u001b[0;34m\u001b[0m\u001b[0m\n\u001b[0m\u001b[1;32m    890\u001b[0m         for hook in itertools.chain(\n\u001b[1;32m    891\u001b[0m                 \u001b[0m_global_forward_hooks\u001b[0m\u001b[0;34m.\u001b[0m\u001b[0mvalues\u001b[0m\u001b[0;34m(\u001b[0m\u001b[0;34m)\u001b[0m\u001b[0;34m,\u001b[0m\u001b[0;34m\u001b[0m\u001b[0;34m\u001b[0m\u001b[0m\n",
            "\u001b[0;32m/usr/local/lib/python3.7/dist-packages/torch/nn/modules/linear.py\u001b[0m in \u001b[0;36mforward\u001b[0;34m(self, input)\u001b[0m\n\u001b[1;32m     92\u001b[0m \u001b[0;34m\u001b[0m\u001b[0m\n\u001b[1;32m     93\u001b[0m     \u001b[0;32mdef\u001b[0m \u001b[0mforward\u001b[0m\u001b[0;34m(\u001b[0m\u001b[0mself\u001b[0m\u001b[0;34m,\u001b[0m \u001b[0minput\u001b[0m\u001b[0;34m:\u001b[0m \u001b[0mTensor\u001b[0m\u001b[0;34m)\u001b[0m \u001b[0;34m->\u001b[0m \u001b[0mTensor\u001b[0m\u001b[0;34m:\u001b[0m\u001b[0;34m\u001b[0m\u001b[0;34m\u001b[0m\u001b[0m\n\u001b[0;32m---> 94\u001b[0;31m         \u001b[0;32mreturn\u001b[0m \u001b[0mF\u001b[0m\u001b[0;34m.\u001b[0m\u001b[0mlinear\u001b[0m\u001b[0;34m(\u001b[0m\u001b[0minput\u001b[0m\u001b[0;34m,\u001b[0m \u001b[0mself\u001b[0m\u001b[0;34m.\u001b[0m\u001b[0mweight\u001b[0m\u001b[0;34m,\u001b[0m \u001b[0mself\u001b[0m\u001b[0;34m.\u001b[0m\u001b[0mbias\u001b[0m\u001b[0;34m)\u001b[0m\u001b[0;34m\u001b[0m\u001b[0;34m\u001b[0m\u001b[0m\n\u001b[0m\u001b[1;32m     95\u001b[0m \u001b[0;34m\u001b[0m\u001b[0m\n\u001b[1;32m     96\u001b[0m     \u001b[0;32mdef\u001b[0m \u001b[0mextra_repr\u001b[0m\u001b[0;34m(\u001b[0m\u001b[0mself\u001b[0m\u001b[0;34m)\u001b[0m \u001b[0;34m->\u001b[0m \u001b[0mstr\u001b[0m\u001b[0;34m:\u001b[0m\u001b[0;34m\u001b[0m\u001b[0;34m\u001b[0m\u001b[0m\n",
            "\u001b[0;32m/usr/local/lib/python3.7/dist-packages/torch/nn/functional.py\u001b[0m in \u001b[0;36mlinear\u001b[0;34m(input, weight, bias)\u001b[0m\n\u001b[1;32m   1751\u001b[0m     \u001b[0;32mif\u001b[0m \u001b[0mhas_torch_function_variadic\u001b[0m\u001b[0;34m(\u001b[0m\u001b[0minput\u001b[0m\u001b[0;34m,\u001b[0m \u001b[0mweight\u001b[0m\u001b[0;34m)\u001b[0m\u001b[0;34m:\u001b[0m\u001b[0;34m\u001b[0m\u001b[0;34m\u001b[0m\u001b[0m\n\u001b[1;32m   1752\u001b[0m         \u001b[0;32mreturn\u001b[0m \u001b[0mhandle_torch_function\u001b[0m\u001b[0;34m(\u001b[0m\u001b[0mlinear\u001b[0m\u001b[0;34m,\u001b[0m \u001b[0;34m(\u001b[0m\u001b[0minput\u001b[0m\u001b[0;34m,\u001b[0m \u001b[0mweight\u001b[0m\u001b[0;34m)\u001b[0m\u001b[0;34m,\u001b[0m \u001b[0minput\u001b[0m\u001b[0;34m,\u001b[0m \u001b[0mweight\u001b[0m\u001b[0;34m,\u001b[0m \u001b[0mbias\u001b[0m\u001b[0;34m=\u001b[0m\u001b[0mbias\u001b[0m\u001b[0;34m)\u001b[0m\u001b[0;34m\u001b[0m\u001b[0;34m\u001b[0m\u001b[0m\n\u001b[0;32m-> 1753\u001b[0;31m     \u001b[0;32mreturn\u001b[0m \u001b[0mtorch\u001b[0m\u001b[0;34m.\u001b[0m\u001b[0m_C\u001b[0m\u001b[0;34m.\u001b[0m\u001b[0m_nn\u001b[0m\u001b[0;34m.\u001b[0m\u001b[0mlinear\u001b[0m\u001b[0;34m(\u001b[0m\u001b[0minput\u001b[0m\u001b[0;34m,\u001b[0m \u001b[0mweight\u001b[0m\u001b[0;34m,\u001b[0m \u001b[0mbias\u001b[0m\u001b[0;34m)\u001b[0m\u001b[0;34m\u001b[0m\u001b[0;34m\u001b[0m\u001b[0m\n\u001b[0m\u001b[1;32m   1754\u001b[0m \u001b[0;34m\u001b[0m\u001b[0m\n\u001b[1;32m   1755\u001b[0m \u001b[0;34m\u001b[0m\u001b[0m\n",
            "\u001b[0;31mKeyboardInterrupt\u001b[0m: "
          ]
        }
      ]
    },
    {
      "cell_type": "code",
      "metadata": {
        "id": "n55BMGVL_Yhr"
      },
      "source": [
        ""
      ],
      "execution_count": null,
      "outputs": []
    }
  ]
}